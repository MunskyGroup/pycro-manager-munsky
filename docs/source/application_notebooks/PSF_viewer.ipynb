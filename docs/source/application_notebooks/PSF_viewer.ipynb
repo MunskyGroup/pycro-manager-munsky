{
 "cells": [
  {
   "cell_type": "markdown",
   "metadata": {},
   "source": [
    "# Streaming data from micro-manager to napari: PSF Viewer\n",
    "\n",
    "developed by Wiebke Jahr, [Danzl lab], IST Austria, (c) 2020  \n",
    "latest version [on github]  \n",
    "\n",
    "\n",
    "If you use this tool, please cite:  \n",
    "pycro-manager: Pinkard, H., Stuurman, N., Ivanov, I.E. et al. Pycro-Manager: open-source software for customized and reproducible microscope control. Nat Methods (2021). doi: [10.1038/s41592-021-01087-6]  \n",
    "napari: napari contributors (2019). napari: a multi-dimensional image viewer for python. doi: [10.5281/zenodo.3555620]  \n",
    "\n",
    "This notebook shows how to acquire data using `micromanager`, then use `pycro-manager` to stream it to `napari`.  \n",
    "Buttons to start and stop data acquisition are added to the `napari` window using the `magic-gui` package. In this example, the data displayed in `napari` is resliced to get a live PSF viewer. However, reslicing is only a small example for the data analysis possible using `napari`.  \n",
    "\n",
    "Here are two [videos] showing the PSF viewer in action:  \n",
    "- PSFViewer-ExternalStageControl_1080p.mp4: z-stage controlled via `micromanager`  \n",
    "- PSFViewer-InternalStageControl_1080p.mp4: z-stage controlled via external DAQ control  \n",
    "\n",
    "Since the amount of data that can be transferred between `micromanager` and `pycro-manager` is currently limited to 100 MB/s, it's important that no more data is transferred to ensure smooth execution of the software.  \n",
    "For both movies, camera acquisition parameters in `micromanager` were set to:  \n",
    "- 11-bit depth,  \n",
    "- chip-size cropped to the central 512x512 px.  \n",
    "- external trigger start (trigger comming at 45 Hz)  \n",
    "- exposure time set to 0.01 ms  \n",
    "\n",
    "Tested on:  \n",
    "- macOS Catalina using `micromanager 2.0.0-gamma1-20210221`  \n",
    "\n",
    "[on github]: https://github.com/wiebkejahr/pycro-manager\n",
    "[Danzl lab]: https://danzl-lab.pages.ist.ac.at/\n",
    "[videos]: https://www.dropbox.com/sh/fpr2nitlhfb68od/AAArXxDLclfXWhsyF0x_fP7Ja?dl=0\n",
    "[10.1038/s41592-021-01087-6]: https://doi.org/10.1038/s41592-021-01087-6\n",
    "[10.5281/zenodo.3555620]: https://doi.org/10.5281/zenodo.3555620"
   ]
  },
  {
   "cell_type": "code",
   "execution_count": 1,
   "metadata": {},
   "outputs": [],
   "source": [
    "# only execute first time to install all required packages\n",
    "# has been tested with the indicated package versions\n",
    "#!pip install pycromanager==0.10.9 napari==0.4.5 pyqt5==5.15.1 magicgui==0.2.5 yappi==1.3.2\n",
    "# newest: magicgui==0.2.6, but there's an error message when connecting the buttons\n",
    "# when updating pycromanager, you may have to update micro-manager as well\n",
    "# when updating magicgui, napari may have to be updated"
   ]
  },
  {
   "cell_type": "code",
   "execution_count": 2,
   "metadata": {},
   "outputs": [],
   "source": [
    "import time\n",
    "import numpy as np\n",
    "import queue\n",
    "#import yappi # needed for benchmarking multithreaded code\n",
    "\n",
    "import napari\n",
    "from napari.qt import thread_worker\n",
    "from magicgui import magicgui\n",
    "\n",
    "from pycromanager import Acquisition, multi_d_acquisition_events\n",
    "\n",
    "# open napari in an extra window\n",
    "%gui qt"
   ]
  },
  {
   "cell_type": "markdown",
   "metadata": {},
   "source": [
    "## define constants\n",
    "some constants for microscope parameters  \n",
    "and display options  \n",
    "global variables for multithreading"
   ]
  },
  {
   "cell_type": "code",
   "execution_count": 3,
   "metadata": {},
   "outputs": [
    {
     "name": "stdout",
     "output_type": "stream",
     "text": [
      "<pycromanager.core.mmcorej_CMMCore object at 0x7fe4f020adf0>\n"
     ]
    }
   ],
   "source": [
    "# data acquired on microscope or simulated?\n",
    "simulate = False\n",
    "# z-stage controlled through micromanager, or externally?\n",
    "z_stack_external = False\n",
    "# clip image to central part. Speeds up display as data size is reduced\n",
    "# is used as size for simulating data\n",
    "clip =[128, 128]\n",
    "# um / px, for correct scaling in napari\n",
    "size_um = [0.16, 0.16]\n",
    "# start in um, end in um, number of slices, active slice\n",
    "z_range = [0, 50, 200, 0]\n",
    "#z_range = [1100, 1150, 200, 0]\n",
    "# rescale z dimension independently for display\n",
    "z_scale = 1\n",
    "# sleep time to keep software responsive\n",
    "sleep_time = 0.05\n",
    "# contrast limits for display\n",
    "clim = [100, 300]\n",
    "# number of color channels, active channel\n",
    "channels = [1, 0] \n",
    "# color map for display\n",
    "cmap = ['plasma', 'viridis']\n",
    "# layer names for the channels\n",
    "layer_names = ['GFP', 'RFP']\n",
    "\n",
    "# initialize global variables\n",
    "# flag to break while loops\n",
    "acq_running = False\n",
    "# empty queue for image data and z positions\n",
    "img_queue = queue.Queue()\n",
    "# xyz data stack\n",
    "data = np.random.rand(z_range[2], clip[0], clip[1]) * clim[1]\n",
    "\n",
    "# if z-stage is controlled through micromanager:\n",
    "# need bridge to move stage at beginning of stack\n",
    "# USE WITH CAUTION: only tested with micromanager demo config\n",
    "if not(simulate) and not(z_stack_external):\n",
    "    from pycromanager import Bridge\n",
    "    bridge = Bridge()\n",
    "    #get object representing micro-manager core\n",
    "    core = bridge.get_core()\n",
    "    print(core)\n",
    "    core.set_position(z_range[0])"
   ]
  },
  {
   "cell_type": "markdown",
   "metadata": {},
   "source": [
    "dev_names = core.get_loaded_devices()\n",
    "for ii in range(dev_names.size()):\n",
    "    print(ii, dev_names.get(ii))\n",
    "\n",
    "print(core.get_property(\"Camera\", \"PixelType\"))\n",
    "#print(core.get_property(\"Z\", \"Label\"))\n",
    "\n",
    "stage_xy = core.get_xy_stage_position()\n",
    "pos = [stage_xy.get_x(), stage_xy.get_y()]\n",
    "print(pos)\n",
    "core.set_position(100)\n",
    "print('z stage: ', core.get_position())\n",
    "core.stop('Z') # this doesnt work, just continues moving\n",
    "print('z stage: ', core.get_position())        \n",
    "core.set_position(z_range[0]) # this also doesn't work\n",
    "time.sleep(5)\n",
    "print('z stage: ', core.get_position())"
   ]
  },
  {
   "cell_type": "markdown",
   "metadata": {},
   "source": [
    "## Function to write data into Queue\n",
    "This function is shared by the image acquisition / simulation routine.  \n",
    "Shapes data as needed and keeps track of both z_position and active channel."
   ]
  },
  {
   "cell_type": "code",
   "execution_count": 4,
   "metadata": {},
   "outputs": [],
   "source": [
    "def place_data(image):\n",
    "    \"\"\" fnc to place image data into the queue.\n",
    "        Keeps track of z-position in stacks and of active color channels.\n",
    "        Inputs: np.array image: image data\n",
    "        Global variables: image_queue to write image and z position\n",
    "                            z_range to keep track of z position\n",
    "                            channels to keep track of channels\n",
    "    \"\"\"\n",
    "    global img_queue\n",
    "    global z_range\n",
    "    global channels\n",
    "    img_queue.put([channels[1], z_range[3], np.ravel(image)])\n",
    "    z_range[3] = (z_range[3]+1) % z_range[2]\n",
    "    if z_range[3] == 0:\n",
    "        channels[1] = (channels[1]+1) % channels[0]\n",
    "    \n",
    "    #print(z_range, channels)"
   ]
  },
  {
   "cell_type": "markdown",
   "metadata": {},
   "source": [
    "## create dummy image and and put into stack\n",
    "creates dummy image of constant brightness  \n",
    "use for testing purposes without microscope  \n",
    "stack of increasing brightness helps to identify glitches"
   ]
  },
  {
   "cell_type": "code",
   "execution_count": 5,
   "metadata": {},
   "outputs": [],
   "source": [
    "def simulate_image(b, size = [128,128]):\n",
    "    \"\"\" fnc to simulate an image of constant brightness\n",
    "        and call fnc to place it into the queue.\n",
    "        Inputs: int b: brightness\n",
    "                np.array size: # of px in image in xy.\n",
    "        \"\"\"\n",
    "    place_data(np.ones(size) * b)\n",
    "    \n",
    "    \n",
    "def simulate_data(ii, z_range):\n",
    "    \"\"\" fnc to create images with constant, but increasing brightness.\n",
    "        Inputs: int ii: counter to increase brightness\n",
    "                int z_range: number of slices in stack\"\"\"\n",
    "    for zz in range(z_range[2]):\n",
    "        brightness = (ii+1) * (zz+1) / ((z_range[2]+1)) * clim[1]\n",
    "        simulate_image(brightness, clip)\n",
    "        time.sleep(sleep_time)\n",
    "        # need sleep time especially when simulated datasize is small or this will kill CPU"
   ]
  },
  {
   "cell_type": "markdown",
   "metadata": {},
   "source": [
    "## image process function and pycromanager acquisition\n",
    "grabs and clips acquired image   \n",
    "built pycromanager acquisition events  \n",
    "acquire data and send to image_process_fn  "
   ]
  },
  {
   "cell_type": "code",
   "execution_count": 6,
   "metadata": {},
   "outputs": [],
   "source": [
    "def grab_image(image, metadata):\n",
    "    \"\"\" image_process_fnc to grab image from uManager, clip it to central part\n",
    "        and call the fnc that will put it into the queue.\n",
    "        Inputs: array image: image from micromanager\n",
    "                metadata from micromanager\n",
    "        \"\"\"\n",
    "    \n",
    "    size = np.shape(image)\n",
    "    image_clipped = image[(size[0]-clip[0])//2:(size[0]+clip[0])//2,\n",
    "                      (size[1]-clip[1])//2:(size[1]+clip[1])//2]\n",
    "    place_data(image_clipped)\n",
    "   \n",
    "    return image, metadata\n",
    "\n",
    "\n",
    "def acquire_data(z_range):\n",
    "    \"\"\" micro-manager data acquisition. Creates acquisition events for z-stack.\n",
    "        This example: use custom events, not multi_d_acquisition because the \n",
    "        z-stage is not run from micro-manager but controlled via external DAQ.\"\"\"\n",
    "    with Acquisition(directory=None, name=None, \n",
    "                     show_display=True, \n",
    "                     image_process_fn = grab_image) as acq:\n",
    "        events = []\n",
    "        for index, z_um in enumerate(np.linspace(z_range[0], z_range[1], z_range[2])):\n",
    "            evt = {\"axes\": {\"z_ext\": index}, \"z_ext\": z_um}\n",
    "            events.append(evt)\n",
    "        acq.acquire(events)\n",
    "        \n",
    "        \n",
    "def acquire_multid(z_range):\n",
    "    \"\"\" micro-manager data acquisition. Creates acquisition events for z-stack.\n",
    "        This example: use multi_d_acquisition because the z-stage is run \n",
    "        from micro-manager.\n",
    "        Unless hardware triggering is set up in micro-manager, this will be fairly slow:\n",
    "        micro-manager does not sweep the z-stage, but acquires plane by plane. \"\"\"\n",
    "    with Acquisition(directory=None, name=None, \n",
    "                     show_display=False, \n",
    "                     image_process_fn = grab_image) as acq:\n",
    "        events = multi_d_acquisition_events(z_start=z_range[0], z_end=z_range[1], \n",
    "                                            z_step=(z_range[1]-z_range[0])/(z_range[2]-1))\n",
    "        acq.acquire(events)"
   ]
  },
  {
   "cell_type": "markdown",
   "metadata": {},
   "source": [
    "## napari update display\n",
    "is called whenever the thread worker checking the queue yields an image  \n",
    "adds images into xyz stack and updates data"
   ]
  },
  {
   "cell_type": "code",
   "execution_count": 7,
   "metadata": {},
   "outputs": [],
   "source": [
    "def display_napari(pos_img):\n",
    "    \"\"\" Unpacks z position and reshapes image from pos_img. Writes image into correct \n",
    "        slice of data, and updates napari display.\n",
    "        Called by worker thread yielding elements from queue.\n",
    "        Needs to be in code before worker thread connecting to it.\n",
    "        Inputs: array pos_img: queue element containing z position and raveled image data.\n",
    "        Global variables: np.array data: contains image stack\n",
    "            img_queue: needed only to send task_done() signal.\n",
    "    \"\"\"\n",
    "    global data\n",
    "    global img_queue\n",
    "    if pos_img is None:\n",
    "        return\n",
    "    # read image and z position\n",
    "    image = np.reshape(pos_img[2:],(clip[0], clip[1]))\n",
    "    z_pos = pos_img[1]\n",
    "    color = pos_img[0]\n",
    "\n",
    "    # write image into correct slice of data and update display\n",
    "    data[z_pos] = np.squeeze(image)\n",
    "    layer = viewer.layers[color]\n",
    "    layer.data = data\n",
    "    #print(\"updating \", z_pos, color)\n",
    "\n",
    "    img_queue.task_done()"
   ]
  },
  {
   "cell_type": "markdown",
   "metadata": {},
   "source": [
    "## worker threads appending data to queue and reading from queue"
   ]
  },
  {
   "cell_type": "code",
   "execution_count": 8,
   "metadata": {},
   "outputs": [],
   "source": [
    "@thread_worker\n",
    "def append_img(img_queue):\n",
    "    \"\"\" Worker thread that adds images to a list.\n",
    "        Calls either micro-manager data acquisition or functions for simulating data.\n",
    "        Inputs: img_queue \"\"\"\n",
    "    # start microscope data acquisition\n",
    "    if not simulate:\n",
    "        if z_stack_external:\n",
    "            while acq_running:\n",
    "                acquire_data(z_range)\n",
    "                time.sleep(sleep_time)\n",
    "        else:\n",
    "            while acq_running:\n",
    "                acquire_multid(z_range)\n",
    "                time.sleep(sleep_time)\n",
    "\n",
    "    # run with simulated data\n",
    "    else:\n",
    "        ii = 0\n",
    "        while acq_running:\n",
    "            simulate_data(ii, z_range)\n",
    "            ii = ii + 1\n",
    "            #print(\"appending to queue\", ii)\n",
    "            time.sleep(sleep_time)\n",
    "            \n",
    "            \n",
    "@thread_worker(connect={'yielded': display_napari})\n",
    "def yield_img(img_queue):\n",
    "    \"\"\" Worker thread that checks whether there are elements in the \n",
    "        queue, reads them out.\n",
    "        Connected to display_napari function to update display \"\"\"\n",
    "    global acq_running\n",
    "    \n",
    "    while acq_running:\n",
    "        time.sleep(sleep_time)\n",
    "        # get elements from queue while there is more than one element\n",
    "        # playing it safe: I'm always leaving one element in the queue\n",
    "        while img_queue.qsize() > 1:\n",
    "            #print(\"reading from queue \", img_queue.qsize())\n",
    "            yield img_queue.get(block = False)\n",
    "\n",
    "    # read out last remaining elements after end of acquisition\n",
    "    while img_queue.qsize() > 0:\n",
    "        yield img_queue.get(block = False)\n",
    "    print(\"acquisition done\")"
   ]
  },
  {
   "cell_type": "markdown",
   "metadata": {},
   "source": [
    "## define functions to start and stop acquisition\n",
    "connect to gui buttons using magic_gui  \n",
    "`start_acq` restarts workers, resets `acq_running` flag and resets `z_range[3]`, ie z_pos  \n",
    "`stop_acq` sets `acq_running` flag to `False`, which will stop the worker threads"
   ]
  },
  {
   "cell_type": "code",
   "execution_count": 9,
   "metadata": {},
   "outputs": [],
   "source": [
    "@magicgui(call_button = \"Start\")\n",
    "def start_acq():\n",
    "    \"\"\" Called when Start button in pressed. Starts workers and resets global variables\"\"\"\n",
    "    print(\"starting threads...\")\n",
    "    global acq_running\n",
    "    global z_range\n",
    "    if not(acq_running):\n",
    "        z_range[3] = 0\n",
    "        acq_running = True\n",
    "        # comment in when benchmarking\n",
    "        #yappi.start()\n",
    "        worker1 = append_img(img_queue)\n",
    "        worker2 = yield_img(img_queue)\n",
    "        worker1.start()\n",
    "        #worker2.start() # doesn't need to be started bc yield is connected\n",
    "    else:\n",
    "        print(\"acquisition already running!\")\n",
    "    \n",
    "    \n",
    "@magicgui(call_button = \"Stop\")\n",
    "def stop_acq():\n",
    "    print(\"stopping threads\")\n",
    "    # set global acq_running to False to stop other workers\n",
    "    global acq_running\n",
    "    global core\n",
    "    acq_running = False\n",
    "    if not(simulate) and not(z_stack_external):\n",
    "        print('z stage stopping: ', core.get_position())\n",
    "        core.stop(\"Z\") # this doesnt work, just continues moving. eventually micromanager memory overflows\n",
    "        print('z stage stopped: ', core.get_position())        \n",
    "        core.set_position(z_range[0]) # this also doesn't work\n",
    "        core.wait_for_device(\"Z\")\n",
    "        #time.sleep(5)\n",
    "        print('z stage zeroed: ', core.get_position())\n",
    "    # comment in when benchmarking\n",
    "    # yappi.stop()"
   ]
  },
  {
   "cell_type": "markdown",
   "metadata": {},
   "source": [
    "## \"Main\" function: start napari and worker threads\n",
    "(re-)opens napary viewer  \n",
    "initializes view with random data  \n",
    "sets scale, contrast etc and rolls view. \n",
    "add GUI buttons for start stop  \n",
    "there's a glitch when acquisition is stopped and restarted too quickly"
   ]
  },
  {
   "cell_type": "code",
   "execution_count": 10,
   "metadata": {},
   "outputs": [
    {
     "name": "stdout",
     "output_type": "stream",
     "text": [
      "viewer already closed or never opened\n"
     ]
    },
    {
     "data": {
      "text/plain": [
       "<napari._qt.widgets.qt_viewer_dock_widget.QtViewerDockWidget at 0x7fe4f5cce790>"
      ]
     },
     "execution_count": 10,
     "metadata": {},
     "output_type": "execute_result"
    },
    {
     "name": "stdout",
     "output_type": "stream",
     "text": [
      "starting threads...\n",
      "stopping threads\n",
      "acquisition donez stage stopping:  37.688442211055275\n",
      "\n",
      "z stage stopped:  37.939698492462306\n",
      "z stage zeroed:  38.19095477386934\n",
      "stopping threads\n",
      "z stage stopping:  34.42211055276382\n",
      "z stage stopped:  34.67336683417085\n",
      "z stage zeroed:  0\n",
      "stopping threads\n",
      "z stage stopping:  17.336683417085425\n",
      "z stage stopped:  17.336683417085425\n",
      "z stage zeroed:  0\n",
      "stopping threads\n"
     ]
    }
   ],
   "source": [
    "# check if viewer is already open\n",
    "# if yes: close and reopen\n",
    "try:\n",
    "    if viewer:\n",
    "        viewer.close()\n",
    "except:\n",
    "    print(\"viewer already closed or never opened\")\n",
    "viewer = napari.Viewer(ndisplay=2)\n",
    "\n",
    "# initialize napari viewer with stack view and random data, reslice view\n",
    "scale = [(z_range[1]-z_range[0])/z_range[2]*z_scale, size_um[1], size_um[0]]\n",
    "layers = [viewer.add_image(data, \n",
    "                        name = layer_names[c],\n",
    "                        colormap = cmap[c],\n",
    "                        interpolation = 'nearest',\n",
    "                        blending = 'additive',\n",
    "                        rendering = 'attenuated_mip',\n",
    "                        scale = scale,\n",
    "                        contrast_limits = clim) \n",
    "         for c in range(channels[0])]\n",
    "viewer.dims._roll()\n",
    "\n",
    "# set sliders to the middle of the stack for all three dimensions.\n",
    "# doesn't work anymore after fixing scaling\n",
    "# would have to be done for both layers\n",
    "#for dd, dim in enumerate(layers[0].data.shape):\n",
    "#    viewer.dims.set_point(dd, dim*scale[2-dd]//2)\n",
    "\n",
    "# add start stop buttons to napari gui\n",
    "viewer.window.add_dock_widget(start_acq)\n",
    "viewer.window.add_dock_widget(stop_acq)"
   ]
  },
  {
   "cell_type": "markdown",
   "metadata": {},
   "source": [
    "## Get output from yappi\n",
    "only needs to be run when benchmarking code"
   ]
  },
  {
   "cell_type": "code",
   "execution_count": null,
   "metadata": {},
   "outputs": [],
   "source": [
    "print('z stage zeroed: ', core.get_position())\n",
    "bridge.close()"
   ]
  },
  {
   "cell_type": "code",
   "execution_count": null,
   "metadata": {},
   "outputs": [],
   "source": [
    "#only needs to be executed when yappi is used\n",
    "threads = yappi.get_thread_stats()\n",
    "for thread in threads:\n",
    "    print(\n",
    "        \"Function stats for (%s) (%d)\" % (thread.name, thread.id)\n",
    "    )  # it is the Thread.__class__.__name__\n",
    "    yappi.get_func_stats(ctx_id=thread.id).print_all()"
   ]
  }
 ],
 "metadata": {
  "kernelspec": {
   "display_name": "Python 3",
   "language": "python",
   "name": "python3"
  },
  "language_info": {
   "codemirror_mode": {
    "name": "ipython",
    "version": 3
   },
   "file_extension": ".py",
   "mimetype": "text/x-python",
   "name": "python",
   "nbconvert_exporter": "python",
   "pygments_lexer": "ipython3",
   "version": "3.7.0"
  }
 },
 "nbformat": 4,
 "nbformat_minor": 4
}